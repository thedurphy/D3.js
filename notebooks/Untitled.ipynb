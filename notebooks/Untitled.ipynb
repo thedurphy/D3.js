{
 "cells": [
  {
   "cell_type": "code",
   "execution_count": 1,
   "metadata": {},
   "outputs": [],
   "source": [
    "import pandas as pd"
   ]
  },
  {
   "cell_type": "code",
   "execution_count": 3,
   "metadata": {},
   "outputs": [],
   "source": [
    "l = '''\n",
    "id,value,color\n",
    "Miadad,\n",
    "Miadad.Data Science,\n",
    "Miadad.Data Science.Experiment Design,4,#f6dec8\n",
    "Miadad.Data Science.Unsupervised Learning,3,#cc191d\n",
    "Miadad.Data Science.Supervised Learning,4,#541c66\n",
    "Miadad.Data Science.Machine Learning,3,#589d26\n",
    "Miadad.Data Science.Neural Networks,3,#3e48e5\n",
    "Miadad.Big Data,\n",
    "Miadad.Big Data.SQL,3,#4dba16\n",
    "Miadad.Big Data.NoSQL,3,#7136f8\n",
    "Miadad.Big Data.Hadoop,2,#ea6a2d\n",
    "Miadad.Big Data.MapReduce,3,#75e8f9\n",
    "Miadad.Programming,\n",
    "Miadad.Programming.Python,4,#6fec18\n",
    "Miadad.Programming.C++,3,#787d93\n",
    "Miadad.Programming.Java,2,#bbfbc2\n",
    "Miadad.Programming.Spark,3,#10f5db\n",
    "Miadad.Web Development,\n",
    "Miadad.Web Development.HTML&CSS,2,#3955d8\n",
    "Miadad.Web Development.JavaScript,4,#97b12d\n",
    "Miadad.Web Development.Bootstrap,3,#9cbff7\n",
    "Miadad.Web Development.Jquery,3,#6f99d1\n",
    "'''"
   ]
  },
  {
   "cell_type": "code",
   "execution_count": 7,
   "metadata": {},
   "outputs": [],
   "source": [
    "l = l.split('\\n')[2:-1]"
   ]
  },
  {
   "cell_type": "code",
   "execution_count": 11,
   "metadata": {},
   "outputs": [],
   "source": [
    "json_list = []\n",
    "for i in l:\n",
    "    dic = {}\n",
    "    row = i.split(',')\n",
    "    if len(row)<3:\n",
    "        dic['id'] = row[0]\n",
    "        dic['value'] = 0\n",
    "        dic['color'] = ''\n",
    "    else:\n",
    "        dic['id'] = row[0]\n",
    "        dic['value'] = int(row[1])\n",
    "        dic['color'] = ''\n",
    "    json_list.append(dic)"
   ]
  },
  {
   "cell_type": "code",
   "execution_count": 12,
   "metadata": {},
   "outputs": [
    {
     "data": {
      "text/plain": [
       "[{'id': 'Miadad', 'value': 0, 'color': ''},\n",
       " {'id': 'Miadad.Data Science', 'value': 0, 'color': ''},\n",
       " {'id': 'Miadad.Data Science.Experiment Design', 'value': 4, 'color': ''},\n",
       " {'id': 'Miadad.Data Science.Unsupervised Learning', 'value': 3, 'color': ''},\n",
       " {'id': 'Miadad.Data Science.Supervised Learning', 'value': 4, 'color': ''},\n",
       " {'id': 'Miadad.Data Science.Machine Learning', 'value': 3, 'color': ''},\n",
       " {'id': 'Miadad.Data Science.Neural Networks', 'value': 3, 'color': ''},\n",
       " {'id': 'Miadad.Big Data', 'value': 0, 'color': ''},\n",
       " {'id': 'Miadad.Big Data.SQL', 'value': 3, 'color': ''},\n",
       " {'id': 'Miadad.Big Data.NoSQL', 'value': 3, 'color': ''},\n",
       " {'id': 'Miadad.Big Data.Hadoop', 'value': 2, 'color': ''},\n",
       " {'id': 'Miadad.Big Data.MapReduce', 'value': 3, 'color': ''},\n",
       " {'id': 'Miadad.Programming', 'value': 0, 'color': ''},\n",
       " {'id': 'Miadad.Programming.Python', 'value': 4, 'color': ''},\n",
       " {'id': 'Miadad.Programming.C++', 'value': 3, 'color': ''},\n",
       " {'id': 'Miadad.Programming.Java', 'value': 2, 'color': ''},\n",
       " {'id': 'Miadad.Programming.Spark', 'value': 3, 'color': ''},\n",
       " {'id': 'Miadad.Web Development', 'value': 0, 'color': ''},\n",
       " {'id': 'Miadad.Web Development.HTML&CSS', 'value': 2, 'color': ''},\n",
       " {'id': 'Miadad.Web Development.JavaScript', 'value': 4, 'color': ''},\n",
       " {'id': 'Miadad.Web Development.Bootstrap', 'value': 3, 'color': ''},\n",
       " {'id': 'Miadad.Web Development.Jquery', 'value': 3, 'color': ''}]"
      ]
     },
     "execution_count": 12,
     "metadata": {},
     "output_type": "execute_result"
    }
   ],
   "source": [
    "json_list"
   ]
  },
  {
   "cell_type": "code",
   "execution_count": null,
   "metadata": {},
   "outputs": [],
   "source": []
  }
 ],
 "metadata": {
  "kernelspec": {
   "display_name": "Python 3",
   "language": "python",
   "name": "python3"
  },
  "language_info": {
   "codemirror_mode": {
    "name": "ipython",
    "version": 3
   },
   "file_extension": ".py",
   "mimetype": "text/x-python",
   "name": "python",
   "nbconvert_exporter": "python",
   "pygments_lexer": "ipython3",
   "version": "3.7.1"
  }
 },
 "nbformat": 4,
 "nbformat_minor": 2
}
